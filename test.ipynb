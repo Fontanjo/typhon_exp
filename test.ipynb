{
 "cells": [
  {
   "cell_type": "code",
   "execution_count": 1,
   "id": "6d27dd22",
   "metadata": {},
   "outputs": [],
   "source": [
    "import numpy as np\n",
    "import datetime\n",
    "import torch\n",
    "import torchvision\n",
    "import glob\n",
    "import cv2"
   ]
  },
  {
   "cell_type": "code",
   "execution_count": 5,
   "id": "ada26ac6",
   "metadata": {},
   "outputs": [],
   "source": [
    "class CustomDatasetFolder(torchvision.datasets.DatasetFolder):\n",
    "    def __init__(self, loader, cuda_device='cpu', path=\"datasets_segmentation/Brain/test/\", img_dim=(256, 256)):\n",
    "        self.loader = loader\n",
    "        self.cuda_device = cuda_device\n",
    "        self.imgs_path = path\n",
    "        file_list = glob.glob(self.imgs_path + \"*[!_mask].npy\") # All non-mask\n",
    "        self.data = []\n",
    "        for img in file_list:\n",
    "            mask = img[:-4] + \"_mask.npy\"\n",
    "            self.data.append([img, mask])\n",
    "        self.img_dim = img_dim\n",
    "        self.num_samples = len(self.data)\n",
    "    \n",
    "    def __len__(self):\n",
    "        return len(self.data)\n",
    "    \n",
    "    def __getitem__(self, idx):\n",
    "        img_path, img_mask_path = self.data[idx]\n",
    "        img = self.loader(img_path)\n",
    "        img_mask = self.loader(img_mask_path, True)\n",
    "        \n",
    "        return img, img_mask"
   ]
  },
  {
   "cell_type": "code",
   "execution_count": 3,
   "id": "432cda47",
   "metadata": {},
   "outputs": [],
   "source": [
    "class CustomDataset(torch.utils.data.Dataset):\n",
    "    def __init__(self, cuda_device='cpu', path=\"datasets_segmentation/Brain/test/\", img_dim=(256, 256)):\n",
    "        self.cuda_device = cuda_device\n",
    "        self.imgs_path = path\n",
    "        file_list = glob.glob(self.imgs_path + \"*[!_mask].npy\") # All non-mask\n",
    "        self.data = []\n",
    "        for img in file_list:\n",
    "            mask = img[:-4] + \"_mask.npy\"\n",
    "            self.data.append([img, mask])\n",
    "        self.img_dim = img_dim\n",
    "        self.num_samples = len(self.data)\n",
    "        \n",
    "    def __len__(self):\n",
    "        return len(self.data)    \n",
    "    \n",
    "    def __getitem__(self, idx):\n",
    "        img_path, img_mask_path = self.data[idx]\n",
    "        img = np.load(img_path)\n",
    "        img_mask = np.load(img_mask_path)\n",
    "        img_tensor = torch.from_numpy(img).to(self.cuda_device)\n",
    "        img_mask_tensor = torch.from_numpy(img_mask).to(self.cuda_device)\n",
    "        \n",
    "        \n",
    "#         img = cv2.imread(img_path)\n",
    "#         img = img / 255\n",
    "#         img = cv2.resize(img, self.img_dim)\n",
    "#         img_mask = cv2.imread(img_mask_path)\n",
    "#         img_mask = img_mask / 255\n",
    "#         img_mask = cv2.resize(img_mask, self.img_dim)\n",
    "#         img_tensor = torch.from_numpy(img).float().to(self.cuda_device)\n",
    "#         img_tensor = img_tensor.permute(2, 0, 1)\n",
    "#         img_mask_tensor = torch.from_numpy(img_mask).float().to(self.cuda_device)\n",
    "#         img_mask_tensor = img_mask_tensor.permute(2, 0, 1)\n",
    "        \n",
    "        return img_tensor, img_mask_tensor"
   ]
  },
  {
   "cell_type": "code",
   "execution_count": 4,
   "id": "84f6876b",
   "metadata": {},
   "outputs": [],
   "source": [
    "# ds = CustomDataset()"
   ]
  },
  {
   "cell_type": "code",
   "execution_count": 5,
   "id": "63119a1c",
   "metadata": {},
   "outputs": [],
   "source": [
    "# data_loader = torch.utils.data.DataLoader(ds, batch_size=4, shuffle=True)"
   ]
  },
  {
   "cell_type": "code",
   "execution_count": 7,
   "id": "d69d602f",
   "metadata": {},
   "outputs": [],
   "source": [
    "class LoopLoader():\n",
    "    def __init__(self,\n",
    "            dset_path,\n",
    "            which, # '['train', 'test', 'val']'\n",
    "            batch_size,\n",
    "            cuda_device\n",
    "        ):\n",
    "\n",
    "        self.dset_path = dset_path\n",
    "        self.which = which\n",
    "        self.batch_size = batch_size\n",
    "        self.cuda_device = cuda_device\n",
    "\n",
    "        # For a list of which, we concatenate\n",
    "#         self.ds_folder = torch.utils.data.ConcatDataset([torchvision.datasets.DatasetFolder(\n",
    "#             root=f\"{dset_path}/{split}\",\n",
    "#             extensions=\"npy\",\n",
    "#             loader=gen_loader(self.cuda_device))\n",
    "#             for split in which])\n",
    "        \n",
    "#         self.ds_folder = torch.utils.data.ConcatDataset([CustomDataset(\n",
    "#             path = f\"{self.dset_path}/{split}/\") \n",
    "#             for split in which])\n",
    "\n",
    "        self.ds_folder = torch.utils.data.ConcatDataset([CustomDatasetFolder(\n",
    "            path=f\"{dset_path}/{split}/\",\n",
    "            cuda_device='cpu',\n",
    "            loader=segmentation_loader(self.cuda_device))\n",
    "            for split in which])\n",
    "\n",
    "        self.data_loader = torch.utils.data.DataLoader(\n",
    "            dataset=self.ds_folder,\n",
    "            batch_size=self.batch_size,\n",
    "            drop_last=False,\n",
    "            shuffle=True)\n",
    "\n",
    "        self.reload_iter()\n",
    "\n",
    "\n",
    "    def reload_iter(self):\n",
    "        self.data_loader = torch.utils.data.DataLoader(\n",
    "            dataset=self.ds_folder,\n",
    "            batch_size=self.batch_size,\n",
    "            drop_last=False,\n",
    "            shuffle=True)\n",
    "        self.loader_iter = iter(self.data_loader)\n",
    "\n",
    "\n",
    "    def get_batch(self):\n",
    "        try:\n",
    "            return next(self.loader_iter)\n",
    "        except StopIteration:\n",
    "            self.reload_iter()\n",
    "            return next(self.loader_iter)\n",
    "\n",
    "    \n",
    "def segmentation_loader(cuda_device):\n",
    "    def the_loader(path, mask=False):\n",
    "        # Load data\n",
    "        ary = np.load(path)\n",
    "        # If mask, add third channel\n",
    "        if mask: ary.shape = (1, *ary.shape)\n",
    "        # Send the tensor to the GPU/CPU depending on what device is available\n",
    "        tensor = torch.from_numpy(ary).to(cuda_device)\n",
    "        return tensor\n",
    "    return the_loader\n",
    "\n",
    "\n",
    "# Just putting the cuda_device in a closure for the DatasetFolder loader\n",
    "def gen_loader(cuda_device):\n",
    "    # Load an image, convert it to a tensor with one single channel,\n",
    "    # and send it to the cuda device (GPU/CPU)\n",
    "    def the_loader(path):\n",
    "        # Load the data: a 2D numpy array\n",
    "        ary = np.load(path)\n",
    "        # We need a 3rd dimension for \"channels\"\n",
    "        ary.shape = (1, *ary.shape) # same as `reshape()` but \"inplace\"\n",
    "        # Send the tensor to the GPU/CPU depending on what device is available\n",
    "        tensor = torch.from_numpy(ary).to(cuda_device)\n",
    "        return tensor\n",
    "    return the_loader"
   ]
  },
  {
   "cell_type": "code",
   "execution_count": 8,
   "id": "270f999e",
   "metadata": {},
   "outputs": [],
   "source": [
    "# ll = LoopLoader('datasets/Prostate', ['train', 'val', 'test'], 8, 'cpu')\n",
    "ll = LoopLoader('datasets_segmentation/Brain', ['train', 'val', 'test'], 8, 'cpu')\n",
    "b1 = ll.get_batch()"
   ]
  },
  {
   "cell_type": "code",
   "execution_count": 9,
   "id": "928a4411",
   "metadata": {},
   "outputs": [
    {
     "data": {
      "text/plain": [
       "tensor([[[[0.0000, 0.0000, 0.0000,  ..., 0.0000, 0.0000, 0.0000],\n",
       "          [0.0000, 0.0000, 0.0000,  ..., 0.0000, 0.0000, 0.0000],\n",
       "          [0.0000, 0.0000, 0.0000,  ..., 0.0000, 0.0000, 0.0000],\n",
       "          ...,\n",
       "          [0.0000, 0.0000, 0.0000,  ..., 0.0000, 0.0000, 0.0000],\n",
       "          [0.0000, 0.0000, 0.0000,  ..., 0.0000, 0.0000, 0.0000],\n",
       "          [0.0000, 0.0000, 0.0000,  ..., 0.0000, 0.0000, 0.0000]],\n",
       "\n",
       "         [[0.0000, 0.0000, 0.0000,  ..., 0.0000, 0.0000, 0.0000],\n",
       "          [0.0000, 0.0000, 0.0000,  ..., 0.0000, 0.0000, 0.0000],\n",
       "          [0.0000, 0.0000, 0.0000,  ..., 0.0000, 0.0000, 0.0000],\n",
       "          ...,\n",
       "          [0.0000, 0.0000, 0.0000,  ..., 0.0000, 0.0000, 0.0000],\n",
       "          [0.0000, 0.0000, 0.0000,  ..., 0.0000, 0.0000, 0.0000],\n",
       "          [0.0000, 0.0000, 0.0000,  ..., 0.0000, 0.0000, 0.0000]],\n",
       "\n",
       "         [[0.0000, 0.0000, 0.0000,  ..., 0.0000, 0.0000, 0.0000],\n",
       "          [0.0000, 0.0000, 0.0000,  ..., 0.0000, 0.0000, 0.0000],\n",
       "          [0.0000, 0.0000, 0.0000,  ..., 0.0000, 0.0000, 0.0000],\n",
       "          ...,\n",
       "          [0.0000, 0.0000, 0.0000,  ..., 0.0000, 0.0000, 0.0000],\n",
       "          [0.0000, 0.0000, 0.0000,  ..., 0.0000, 0.0000, 0.0000],\n",
       "          [0.0000, 0.0000, 0.0000,  ..., 0.0000, 0.0000, 0.0000]]],\n",
       "\n",
       "\n",
       "        [[[0.0000, 0.0000, 0.0000,  ..., 0.0000, 0.0000, 0.0000],\n",
       "          [0.0000, 0.0000, 0.0000,  ..., 0.0000, 0.0000, 0.0000],\n",
       "          [0.0000, 0.0000, 0.0000,  ..., 0.0000, 0.0000, 0.0000],\n",
       "          ...,\n",
       "          [0.0000, 0.0000, 0.0000,  ..., 0.0000, 0.0000, 0.0000],\n",
       "          [0.0000, 0.0000, 0.0000,  ..., 0.0000, 0.0000, 0.0000],\n",
       "          [0.0000, 0.0000, 0.0000,  ..., 0.0000, 0.0000, 0.0000]],\n",
       "\n",
       "         [[0.0000, 0.0000, 0.0000,  ..., 0.0000, 0.0000, 0.0000],\n",
       "          [0.0000, 0.0000, 0.0000,  ..., 0.0000, 0.0000, 0.0000],\n",
       "          [0.0000, 0.0000, 0.0000,  ..., 0.0000, 0.0000, 0.0000],\n",
       "          ...,\n",
       "          [0.0000, 0.0000, 0.0000,  ..., 0.0000, 0.0000, 0.0000],\n",
       "          [0.0000, 0.0000, 0.0000,  ..., 0.0000, 0.0000, 0.0000],\n",
       "          [0.0000, 0.0000, 0.0000,  ..., 0.0000, 0.0000, 0.0000]],\n",
       "\n",
       "         [[0.0000, 0.0000, 0.0000,  ..., 0.0000, 0.0000, 0.0000],\n",
       "          [0.0000, 0.0000, 0.0000,  ..., 0.0000, 0.0000, 0.0000],\n",
       "          [0.0000, 0.0000, 0.0000,  ..., 0.0000, 0.0000, 0.0000],\n",
       "          ...,\n",
       "          [0.0000, 0.0000, 0.0000,  ..., 0.0000, 0.0000, 0.0000],\n",
       "          [0.0000, 0.0000, 0.0000,  ..., 0.0000, 0.0000, 0.0000],\n",
       "          [0.0000, 0.0000, 0.0000,  ..., 0.0000, 0.0000, 0.0000]]],\n",
       "\n",
       "\n",
       "        [[[0.0039, 0.0000, 0.0078,  ..., 0.0078, 0.0039, 0.0039],\n",
       "          [0.0078, 0.0000, 0.0039,  ..., 0.0078, 0.0118, 0.0118],\n",
       "          [0.0039, 0.0039, 0.0039,  ..., 0.0039, 0.0039, 0.0078],\n",
       "          ...,\n",
       "          [0.0078, 0.0039, 0.0039,  ..., 0.0078, 0.0118, 0.0078],\n",
       "          [0.0039, 0.0039, 0.0078,  ..., 0.0078, 0.0118, 0.0118],\n",
       "          [0.0039, 0.0039, 0.0039,  ..., 0.0039, 0.0078, 0.0157]],\n",
       "\n",
       "         [[0.0078, 0.0118, 0.0118,  ..., 0.0078, 0.0078, 0.0078],\n",
       "          [0.0235, 0.0078, 0.0000,  ..., 0.0039, 0.0039, 0.0078],\n",
       "          [0.0118, 0.0118, 0.0118,  ..., 0.0078, 0.0078, 0.0078],\n",
       "          ...,\n",
       "          [0.0118, 0.0157, 0.0118,  ..., 0.0235, 0.0196, 0.0118],\n",
       "          [0.0157, 0.0157, 0.0118,  ..., 0.0196, 0.0275, 0.0078],\n",
       "          [0.0196, 0.0235, 0.0118,  ..., 0.0157, 0.0196, 0.0196]],\n",
       "\n",
       "         [[0.0000, 0.0000, 0.0000,  ..., 0.0000, 0.0000, 0.0000],\n",
       "          [0.0000, 0.0000, 0.0000,  ..., 0.0000, 0.0000, 0.0000],\n",
       "          [0.0000, 0.0000, 0.0000,  ..., 0.0000, 0.0000, 0.0000],\n",
       "          ...,\n",
       "          [0.0000, 0.0000, 0.0000,  ..., 0.0000, 0.0000, 0.0000],\n",
       "          [0.0000, 0.0000, 0.0000,  ..., 0.0000, 0.0000, 0.0000],\n",
       "          [0.0000, 0.0000, 0.0000,  ..., 0.0000, 0.0000, 0.0000]]],\n",
       "\n",
       "\n",
       "        ...,\n",
       "\n",
       "\n",
       "        [[[0.0039, 0.0039, 0.0039,  ..., 0.0078, 0.0039, 0.0078],\n",
       "          [0.0078, 0.0078, 0.0039,  ..., 0.0039, 0.0078, 0.0078],\n",
       "          [0.0078, 0.0118, 0.0039,  ..., 0.0039, 0.0078, 0.0078],\n",
       "          ...,\n",
       "          [0.0078, 0.0078, 0.0039,  ..., 0.0078, 0.0039, 0.0039],\n",
       "          [0.0039, 0.0039, 0.0039,  ..., 0.0039, 0.0039, 0.0039],\n",
       "          [0.0039, 0.0039, 0.0039,  ..., 0.0000, 0.0039, 0.0039]],\n",
       "\n",
       "         [[0.0078, 0.0078, 0.0039,  ..., 0.0157, 0.0157, 0.0078],\n",
       "          [0.0078, 0.0078, 0.0078,  ..., 0.0118, 0.0157, 0.0078],\n",
       "          [0.0078, 0.0118, 0.0118,  ..., 0.0039, 0.0078, 0.0118],\n",
       "          ...,\n",
       "          [0.0078, 0.0118, 0.0157,  ..., 0.0157, 0.0235, 0.0157],\n",
       "          [0.0157, 0.0118, 0.0157,  ..., 0.0157, 0.0275, 0.0235],\n",
       "          [0.0118, 0.0118, 0.0157,  ..., 0.0157, 0.0196, 0.0157]],\n",
       "\n",
       "         [[0.0000, 0.0000, 0.0000,  ..., 0.0000, 0.0000, 0.0000],\n",
       "          [0.0000, 0.0000, 0.0000,  ..., 0.0000, 0.0000, 0.0000],\n",
       "          [0.0000, 0.0000, 0.0000,  ..., 0.0000, 0.0000, 0.0000],\n",
       "          ...,\n",
       "          [0.0000, 0.0000, 0.0000,  ..., 0.0000, 0.0000, 0.0000],\n",
       "          [0.0000, 0.0000, 0.0000,  ..., 0.0000, 0.0000, 0.0000],\n",
       "          [0.0000, 0.0000, 0.0000,  ..., 0.0000, 0.0000, 0.0000]]],\n",
       "\n",
       "\n",
       "        [[[0.0157, 0.0157, 0.0118,  ..., 0.0000, 0.0000, 0.0000],\n",
       "          [0.0078, 0.0039, 0.0039,  ..., 0.0000, 0.0000, 0.0000],\n",
       "          [0.0078, 0.0118, 0.0118,  ..., 0.0000, 0.0000, 0.0000],\n",
       "          ...,\n",
       "          [0.0078, 0.0078, 0.0039,  ..., 0.0039, 0.0039, 0.0039],\n",
       "          [0.0039, 0.0078, 0.0078,  ..., 0.0078, 0.0039, 0.0039],\n",
       "          [0.0039, 0.0039, 0.0039,  ..., 0.0039, 0.0078, 0.0118]],\n",
       "\n",
       "         [[0.0000, 0.0000, 0.0000,  ..., 0.0000, 0.0000, 0.0000],\n",
       "          [0.0000, 0.0000, 0.0000,  ..., 0.0000, 0.0000, 0.0000],\n",
       "          [0.0000, 0.0000, 0.0000,  ..., 0.0000, 0.0000, 0.0000],\n",
       "          ...,\n",
       "          [0.0118, 0.0157, 0.0157,  ..., 0.0235, 0.0196, 0.0078],\n",
       "          [0.0157, 0.0157, 0.0157,  ..., 0.0196, 0.0235, 0.0157],\n",
       "          [0.0118, 0.0078, 0.0078,  ..., 0.0078, 0.0039, 0.0078]],\n",
       "\n",
       "         [[0.0000, 0.0000, 0.0000,  ..., 0.0000, 0.0000, 0.0000],\n",
       "          [0.0000, 0.0000, 0.0000,  ..., 0.0000, 0.0000, 0.0000],\n",
       "          [0.0000, 0.0000, 0.0000,  ..., 0.0000, 0.0000, 0.0000],\n",
       "          ...,\n",
       "          [0.0000, 0.0000, 0.0039,  ..., 0.0039, 0.0000, 0.0000],\n",
       "          [0.0000, 0.0000, 0.0000,  ..., 0.0039, 0.0000, 0.0000],\n",
       "          [0.0000, 0.0000, 0.0000,  ..., 0.0000, 0.0000, 0.0000]]],\n",
       "\n",
       "\n",
       "        [[[0.0000, 0.0000, 0.0000,  ..., 0.0000, 0.0000, 0.0000],\n",
       "          [0.0000, 0.0000, 0.0000,  ..., 0.0000, 0.0000, 0.0000],\n",
       "          [0.0000, 0.0000, 0.0000,  ..., 0.0000, 0.0000, 0.0000],\n",
       "          ...,\n",
       "          [0.0000, 0.0000, 0.0000,  ..., 0.0000, 0.0000, 0.0000],\n",
       "          [0.0000, 0.0000, 0.0000,  ..., 0.0000, 0.0000, 0.0000],\n",
       "          [0.0000, 0.0000, 0.0000,  ..., 0.0000, 0.0000, 0.0000]],\n",
       "\n",
       "         [[0.0000, 0.0000, 0.0000,  ..., 0.0000, 0.0000, 0.0000],\n",
       "          [0.0000, 0.0000, 0.0000,  ..., 0.0000, 0.0000, 0.0000],\n",
       "          [0.0000, 0.0000, 0.0000,  ..., 0.0000, 0.0000, 0.0000],\n",
       "          ...,\n",
       "          [0.0078, 0.0118, 0.0118,  ..., 0.0078, 0.0078, 0.0000],\n",
       "          [0.0039, 0.0039, 0.0078,  ..., 0.0078, 0.0078, 0.0000],\n",
       "          [0.0039, 0.0039, 0.0039,  ..., 0.0039, 0.0039, 0.0000]],\n",
       "\n",
       "         [[0.0000, 0.0000, 0.0000,  ..., 0.0000, 0.0000, 0.0000],\n",
       "          [0.0000, 0.0000, 0.0000,  ..., 0.0000, 0.0000, 0.0000],\n",
       "          [0.0000, 0.0000, 0.0000,  ..., 0.0000, 0.0000, 0.0000],\n",
       "          ...,\n",
       "          [0.0000, 0.0000, 0.0000,  ..., 0.0000, 0.0000, 0.0000],\n",
       "          [0.0000, 0.0000, 0.0000,  ..., 0.0000, 0.0000, 0.0000],\n",
       "          [0.0000, 0.0000, 0.0000,  ..., 0.0000, 0.0000, 0.0000]]]],\n",
       "       dtype=torch.float64)"
      ]
     },
     "execution_count": 9,
     "metadata": {},
     "output_type": "execute_result"
    }
   ],
   "source": [
    "b1[0]"
   ]
  },
  {
   "cell_type": "code",
   "execution_count": 9,
   "id": "4cb9da68",
   "metadata": {},
   "outputs": [
    {
     "data": {
      "text/plain": [
       "tensor(0.9451, dtype=torch.float64)"
      ]
     },
     "execution_count": 9,
     "metadata": {},
     "output_type": "execute_result"
    }
   ],
   "source": [
    "torch.max(b1[0])"
   ]
  },
  {
   "cell_type": "markdown",
   "id": "3e5ba5aa",
   "metadata": {
    "deletable": false,
    "editable": false,
    "run_control": {
     "frozen": true
    }
   },
   "source": [
    "# Work with .tif"
   ]
  },
  {
   "cell_type": "code",
   "execution_count": 21,
   "id": "4e4737ea",
   "metadata": {
    "deletable": false,
    "editable": false,
    "run_control": {
     "frozen": true
    }
   },
   "outputs": [],
   "source": [
    "from PIL import Image\n",
    "im = Image.open('dsets_unet/brain_mri/TCGA_CS_4941_19960909/TCGA_CS_4941_19960909_1.tif')\n",
    "nim = np.array(im)"
   ]
  },
  {
   "cell_type": "code",
   "execution_count": 23,
   "id": "22b3f1c3",
   "metadata": {
    "deletable": false,
    "editable": false,
    "run_control": {
     "frozen": true
    }
   },
   "outputs": [
    {
     "data": {
      "text/plain": [
       "(256, 256, 3)"
      ]
     },
     "execution_count": 23,
     "metadata": {},
     "output_type": "execute_result"
    }
   ],
   "source": [
    "nim.shape"
   ]
  },
  {
   "cell_type": "code",
   "execution_count": 42,
   "id": "b592540a",
   "metadata": {
    "deletable": false,
    "editable": false,
    "run_control": {
     "frozen": true
    }
   },
   "outputs": [],
   "source": [
    "nim2 = np.load(\"datasets/Prostate/val/0/dwi-mri-8-ep2ddifftraDYNDISTCALCBVAL-22625_fid-3_visit0_augmented-6.npy\")"
   ]
  },
  {
   "cell_type": "code",
   "execution_count": 37,
   "id": "de41bf69",
   "metadata": {
    "deletable": false,
    "editable": false,
    "run_control": {
     "frozen": true
    }
   },
   "outputs": [
    {
     "data": {
      "text/plain": [
       "(65, 65)"
      ]
     },
     "execution_count": 37,
     "metadata": {},
     "output_type": "execute_result"
    }
   ],
   "source": [
    "nim2.shape"
   ]
  },
  {
   "cell_type": "code",
   "execution_count": 47,
   "id": "44b9ecdc",
   "metadata": {},
   "outputs": [],
   "source": [
    "pil_image=Image.fromarray(nim2 * 255)\n",
    "pil_image.show()"
   ]
  },
  {
   "cell_type": "code",
   "execution_count": 45,
   "id": "b5e4ecf9",
   "metadata": {
    "deletable": false,
    "editable": false,
    "run_control": {
     "frozen": true
    }
   },
   "outputs": [
    {
     "data": {
      "text/plain": [
       "array([[-5.7441244, -5.697813 , -5.7096796, ..., -1.2457886, -4.446393 ,\n",
       "        -6.2011404],\n",
       "       [-5.7110524, -5.712204 , -5.706325 , ...,  1.6483636, -3.3304226,\n",
       "        -6.399544 ],\n",
       "       [-5.710719 , -5.711265 , -5.6979265, ...,  1.2752781, -3.1896305,\n",
       "        -6.243905 ],\n",
       "       ...,\n",
       "       [ 9.724371 ,  9.293088 ,  7.8892255, ..., -5.7109904, -5.7109904,\n",
       "        -5.7109904],\n",
       "       [10.4468975,  9.636963 ,  8.050376 , ..., -5.7109904, -5.7109904,\n",
       "        -5.7109904],\n",
       "       [10.713201 , 10.140901 , 10.107052 , ..., -5.7109904, -5.7109904,\n",
       "        -5.7109904]], dtype=float32)"
      ]
     },
     "execution_count": 45,
     "metadata": {},
     "output_type": "execute_result"
    }
   ],
   "source": [
    "nim2 * 10"
   ]
  },
  {
   "cell_type": "code",
   "execution_count": 51,
   "id": "e5baaf48",
   "metadata": {
    "deletable": false,
    "editable": false,
    "run_control": {
     "frozen": true
    }
   },
   "outputs": [],
   "source": [
    "import os\n",
    "\n",
    "path = \"./dsets_unet/brain_mri\"\n",
    "dir_list = os.listdir(path)"
   ]
  },
  {
   "cell_type": "code",
   "execution_count": 68,
   "id": "e043bf60",
   "metadata": {
    "deletable": false,
    "editable": false,
    "run_control": {
     "frozen": true
    }
   },
   "outputs": [],
   "source": [
    "images = []\n",
    "# Iterate over all the directories\n",
    "for dir_name in dir_list:\n",
    "    dir_path = path + '/' + dir_name\n",
    "    if os.path.isdir(dir_path):\n",
    "        for image in os.listdir(dir_path):\n",
    "            if not image.endswith('_mask.tif'):\n",
    "                i = dir_path + '/' + image\n",
    "                m = dir_path + '/' + image[:-4] + '_mask.tif'\n",
    "                images.append([i, m])"
   ]
  },
  {
   "cell_type": "code",
   "execution_count": 70,
   "id": "77b71d1c",
   "metadata": {
    "deletable": false,
    "editable": false,
    "run_control": {
     "frozen": true
    }
   },
   "outputs": [
    {
     "data": {
      "text/plain": [
       "3929"
      ]
     },
     "execution_count": 70,
     "metadata": {},
     "output_type": "execute_result"
    }
   ],
   "source": [
    "len(images)"
   ]
  },
  {
   "cell_type": "code",
   "execution_count": 74,
   "id": "e6b200b0",
   "metadata": {
    "deletable": false,
    "editable": false,
    "run_control": {
     "frozen": true
    }
   },
   "outputs": [],
   "source": [
    "# os.makedirs('./dsets_unet/J/test')"
   ]
  },
  {
   "cell_type": "code",
   "execution_count": 76,
   "id": "94cc2313",
   "metadata": {
    "deletable": false,
    "editable": false,
    "run_control": {
     "frozen": true
    }
   },
   "outputs": [],
   "source": [
    "import torch"
   ]
  },
  {
   "cell_type": "code",
   "execution_count": 80,
   "id": "ecaad8c8",
   "metadata": {
    "deletable": false,
    "editable": false,
    "run_control": {
     "frozen": true
    }
   },
   "outputs": [],
   "source": [
    "train_data, val_data, test_data = torch.utils.data.random_split(images, [3000, 900, 29])"
   ]
  },
  {
   "cell_type": "code",
   "execution_count": 83,
   "id": "4e9cb187",
   "metadata": {
    "deletable": false,
    "editable": false,
    "run_control": {
     "frozen": true
    }
   },
   "outputs": [],
   "source": [
    "import shutil"
   ]
  },
  {
   "cell_type": "code",
   "execution_count": 84,
   "id": "c2c73452",
   "metadata": {
    "deletable": false,
    "editable": false,
    "run_control": {
     "frozen": true
    }
   },
   "outputs": [],
   "source": [
    "for data in train_data:\n",
    "    im_name0 = data[0].split('/')[-1]\n",
    "    im_name1 = data[1].split('/')[-1]\n",
    "    shutil.copyfile(data[0], f'dsets_unet/J/train/{im_name0}')\n",
    "    shutil.copyfile(data[1], f'dsets_unet/J/train/{im_name1}')\n",
    "    \n",
    "for data in test_data:\n",
    "    im_name0 = data[0].split('/')[-1]\n",
    "    im_name1 = data[1].split('/')[-1]\n",
    "    shutil.copyfile(data[0], f'dsets_unet/J/test/{im_name0}')\n",
    "    shutil.copyfile(data[1], f'dsets_unet/J/test/{im_name1}')\n",
    "    \n",
    "for data in val_data:\n",
    "    im_name0 = data[0].split('/')[-1]\n",
    "    im_name1 = data[1].split('/')[-1]\n",
    "    shutil.copyfile(data[0], f'dsets_unet/J/val/{im_name0}')\n",
    "    shutil.copyfile(data[1], f'dsets_unet/J/val/{im_name1}')"
   ]
  }
 ],
 "metadata": {
  "kernelspec": {
   "display_name": "Python 3 (ipykernel)",
   "language": "python",
   "name": "python3"
  },
  "language_info": {
   "codemirror_mode": {
    "name": "ipython",
    "version": 3
   },
   "file_extension": ".py",
   "mimetype": "text/x-python",
   "name": "python",
   "nbconvert_exporter": "python",
   "pygments_lexer": "ipython3",
   "version": "3.8.10"
  }
 },
 "nbformat": 4,
 "nbformat_minor": 5
}
