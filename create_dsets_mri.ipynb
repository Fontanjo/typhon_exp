{
 "cells": [
  {
   "cell_type": "code",
   "execution_count": 2,
   "id": "38226443",
   "metadata": {},
   "outputs": [],
   "source": [
    "import os\n",
    "import torch\n",
    "import shutil\n",
    "import cv2\n",
    "import numpy as np\n",
    "from PIL import Image"
   ]
  },
  {
   "cell_type": "code",
   "execution_count": 23,
   "id": "299d4b43",
   "metadata": {
    "scrolled": false
   },
   "outputs": [],
   "source": [
    "path = \"/media/jonas/Seagate Expansion Drive/Memoria/master_thesis/Brain_orig\"\n",
    "dir_list = os.listdir(path)\n",
    "\n",
    "images = []\n",
    "# Iterate over all the directories\n",
    "for dir_name in dir_list:\n",
    "    dir_path = path + '/' + dir_name\n",
    "    if os.path.isdir(dir_path):\n",
    "        for image in os.listdir(dir_path):\n",
    "            if not image.endswith('_mask.tif'):\n",
    "                i = dir_path + '/' + image\n",
    "                m = dir_path + '/' + image[:-4] + '_mask.tif'\n",
    "                images.append([i, m])\n",
    "                \n",
    "                \n",
    "out_path = \"/media/jonas/Seagate Expansion Drive/Memoria/master_thesis/Brain_mri\"\n",
    "# # Split\n",
    "# # train_data, val_data, test_data, discard = torch.utils.data.random_split(images, [15, 15, 15, 3929 - 45])\n",
    "# print(len(images))\n",
    "train_data, val_data, test_data = torch.utils.data.random_split(images, [3000, 900, 29])\n",
    "\n",
    "os.makedirs(f'{out_path}/train')\n",
    "os.makedirs(f'{out_path}/val')\n",
    "os.makedirs(f'{out_path}/test')\n",
    "\n",
    "for data in test_data:\n",
    "    # Load image and mask\n",
    "    img = cv2.imread(data[0])\n",
    "    mask = cv2.imread(data[1])\n",
    "    # Move channel\n",
    "    img = img.transpose(2, 0, 1)\n",
    "    # Extract names\n",
    "    img_name = data[0].split('/')[-1]\n",
    "    mask_name = data[1].split('/')[-1]\n",
    "    # Save each channel as a separated image\n",
    "    # For consistency (in typhon loader mostly), save a mask for each channel, even if they are all the same\n",
    "    for i in range(3):\n",
    "        np.save(f'{out_path}/test/{img_name[:-4]}_{i}.npy', img[i])\n",
    "        np.save(f'{out_path}/test/{mask_name[:-9]}_{i}_mask.npy', mask)\n",
    "        \n",
    "\n",
    "for data in train_data:\n",
    "    # Load image and mask\n",
    "    img = cv2.imread(data[0])\n",
    "    mask = cv2.imread(data[1])\n",
    "    # Move channel\n",
    "    img = img.transpose(2, 0, 1)\n",
    "    # Extract names\n",
    "    img_name = data[0].split('/')[-1]\n",
    "    mask_name = data[1].split('/')[-1]\n",
    "    # Save each channel as a separated image\n",
    "    # For consistency (in typhon loader mostly), save a mask for each channel, even if they are all the same\n",
    "    for i in range(3):\n",
    "        np.save(f'{out_path}/train/{img_name[:-4]}_{i}.npy', img[i])\n",
    "        np.save(f'{out_path}/train/{mask_name[:-9]}_{i}_mask.npy', mask)\n",
    "        \n",
    "        \n",
    "for data in val_data:\n",
    "    # Load image and mask\n",
    "    img = cv2.imread(data[0])\n",
    "    mask = cv2.imread(data[1])\n",
    "    # Move channel\n",
    "    img = img.transpose(2, 0, 1)\n",
    "    # Extract names\n",
    "    img_name = data[0].split('/')[-1]\n",
    "    mask_name = data[1].split('/')[-1]\n",
    "    # Save each channel as a separated image\n",
    "    # For consistency (in typhon loader mostly), save a mask for each channel, even if they are all the same\n",
    "    for i in range(3):\n",
    "        np.save(f'{out_path}/val/{img_name[:-4]}_{i}.npy', img[i])\n",
    "        np.save(f'{out_path}/val/{mask_name[:-9]}_{i}_mask.npy', mask)"
   ]
  },
  {
   "cell_type": "code",
   "execution_count": 6,
   "id": "22e442a9",
   "metadata": {},
   "outputs": [],
   "source": [
    "# images"
   ]
  },
  {
   "cell_type": "code",
   "execution_count": 24,
   "id": "d1f4fafd",
   "metadata": {},
   "outputs": [],
   "source": [
    "# for s in images:\n",
    "#     img = cv2.imread(s[0])\n",
    "# #     img = np.dot(img[...,:3], [0.299, 0.587, 0.114])\n",
    "#     img = img.transpose(2, 0, 1)\n",
    "#     for i in range(3):\n",
    "#         np.save(f'./out_test_brain{i}.npy', img[i])\n",
    "    \n",
    "#     print(img.shape)\n",
    "#     break\n",
    "# #     print(s[0])"
   ]
  },
  {
   "cell_type": "code",
   "execution_count": null,
   "id": "0ba520b0",
   "metadata": {},
   "outputs": [],
   "source": []
  }
 ],
 "metadata": {
  "kernelspec": {
   "display_name": "Python 3 (ipykernel)",
   "language": "python",
   "name": "python3"
  },
  "language_info": {
   "codemirror_mode": {
    "name": "ipython",
    "version": 3
   },
   "file_extension": ".py",
   "mimetype": "text/x-python",
   "name": "python",
   "nbconvert_exporter": "python",
   "pygments_lexer": "ipython3",
   "version": "3.8.10"
  }
 },
 "nbformat": 4,
 "nbformat_minor": 5
}
