{
 "cells": [
  {
   "cell_type": "code",
   "execution_count": 1,
   "id": "49ed514e",
   "metadata": {},
   "outputs": [
    {
     "data": {
      "text/plain": [
       "True"
      ]
     },
     "execution_count": 1,
     "metadata": {},
     "output_type": "execute_result"
    }
   ],
   "source": [
    "import cv2\n",
    "\n",
    "# Load the image in BGR format\n",
    "image_bgr = cv2.imread('/home/jonas/Desktop/000_IMAGES_THESIS/Seaquest_bgr.png')\n",
    "\n",
    "# Convert BGR to RGB\n",
    "image_rgb = cv2.cvtColor(image_bgr, cv2.COLOR_BGR2RGB)\n",
    "\n",
    "# Save the image with RGB format\n",
    "cv2.imwrite('/home/jonas/Desktop/000_IMAGES_THESIS/Seaquest_rgb.png', image_rgb)"
   ]
  },
  {
   "cell_type": "code",
   "execution_count": null,
   "id": "e97dc5ab",
   "metadata": {},
   "outputs": [],
   "source": []
  }
 ],
 "metadata": {
  "kernelspec": {
   "display_name": "Python 3 (ipykernel)",
   "language": "python",
   "name": "python3"
  },
  "language_info": {
   "codemirror_mode": {
    "name": "ipython",
    "version": 3
   },
   "file_extension": ".py",
   "mimetype": "text/x-python",
   "name": "python",
   "nbconvert_exporter": "python",
   "pygments_lexer": "ipython3",
   "version": "3.8.10"
  }
 },
 "nbformat": 4,
 "nbformat_minor": 5
}
