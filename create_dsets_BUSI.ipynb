{
 "cells": [
  {
   "cell_type": "code",
   "execution_count": 1,
   "id": "38226443",
   "metadata": {},
   "outputs": [],
   "source": [
    "import os\n",
    "import shutil\n",
    "import numpy as np\n",
    "import torch"
   ]
  },
  {
   "cell_type": "code",
   "execution_count": 2,
   "id": "299d4b43",
   "metadata": {
    "scrolled": false
   },
   "outputs": [],
   "source": [
    "path = \"/media/jonas/Seagate Expansion Drive/Memoria/master_thesis/Dataset_BUSI_output\"\n",
    "\n",
    "\n",
    "images = []\n",
    "\n",
    "# Iterate over all the images\n",
    "for image in os.listdir(path + '/img'):\n",
    "    images.append(image)\n",
    "      \n",
    "assert len(images) == 647\n",
    "                \n",
    "out_path = \"/home/jonas/Documents/master_thesis/codes/typhon_exp/datasets_segmentation\"\n",
    "\n",
    "# Split\n",
    "train_data, val_data, test_data = torch.utils.data.random_split(images, [550, 80, 17]) # 647\n",
    "\n",
    "os.makedirs(f'{out_path}/BUSI/train')\n",
    "os.makedirs(f'{out_path}/BUSI/val')\n",
    "os.makedirs(f'{out_path}/BUSI/test')\n",
    "\n",
    "for img in test_data:\n",
    "    shutil.copyfile(path + '/img/' + img, out_path + '/BUSI/test/' + img)\n",
    "    shutil.copyfile(path + '/masks/' + img[:-4] + '_mask0.npy', out_path + '/BUSI/test/' + img[:-4] + '_mask.npy')\n",
    "\n",
    "for img in train_data:\n",
    "    shutil.copyfile(path + '/img/' + img, out_path + '/BUSI/train/' + img)\n",
    "    shutil.copyfile(path + '/masks/' + img[:-4] + '_mask0.npy', out_path + '/BUSI/train/' + img[:-4] + '_mask.npy')\n",
    "    \n",
    "\n",
    "for img in val_data:\n",
    "    shutil.copyfile(path + '/img/' + img, out_path + '/BUSI/val/' + img)\n",
    "    shutil.copyfile(path + '/masks/' + img[:-4] + '_mask0.npy', out_path + '/BUSI/val/' + img[:-4] + '_mask.npy')\n"
   ]
  },
  {
   "cell_type": "code",
   "execution_count": null,
   "id": "d1f4fafd",
   "metadata": {},
   "outputs": [],
   "source": []
  }
 ],
 "metadata": {
  "kernelspec": {
   "display_name": "Python 3 (ipykernel)",
   "language": "python",
   "name": "python3"
  },
  "language_info": {
   "codemirror_mode": {
    "name": "ipython",
    "version": 3
   },
   "file_extension": ".py",
   "mimetype": "text/x-python",
   "name": "python",
   "nbconvert_exporter": "python",
   "pygments_lexer": "ipython3",
   "version": "3.8.10"
  }
 },
 "nbformat": 4,
 "nbformat_minor": 5
}
