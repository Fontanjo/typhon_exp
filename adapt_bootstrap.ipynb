{
 "cells": [
  {
   "cell_type": "code",
   "execution_count": 23,
   "id": "6db91f12",
   "metadata": {},
   "outputs": [],
   "source": [
    "%matplotlib inline \n",
    "import pandas as pd\n",
    "import numpy as np\n",
    "import matplotlib.pyplot as plt\n",
    "import ipywidgets as widgets\n",
    "from ipywidgets import interact\n",
    "from pathlib import Path\n",
    "import copy\n",
    "\n",
    "import os\n",
    "import torch\n",
    "\n",
    "import typhon_model\n"
   ]
  },
  {
   "cell_type": "code",
   "execution_count": 41,
   "id": "1a6a7ec4",
   "metadata": {},
   "outputs": [
    {
     "name": "stdout",
     "output_type": "stream",
     "text": [
      "results/20230513_bootstrap_7/models/bootstrap_model.pth\n"
     ]
    }
   ],
   "source": [
    "root_path = Path('results')\n",
    "bootstrap_exp_name = '20230513_bootstrap_7'\n",
    "\n",
    "model_path = (root_path / bootstrap_exp_name / 'models' / 'bootstrap_model').with_suffix('.pth')\n",
    "print(model_path)\n",
    "\n",
    "# Load model\n",
    "model_dict = torch.load(model_path, map_location=torch.device('cpu'))\n",
    "model = typhon_model.TyphonModel.from_state_dict(model_dict)"
   ]
  },
  {
   "cell_type": "code",
   "execution_count": 42,
   "id": "de2e7fc5",
   "metadata": {},
   "outputs": [],
   "source": [
    "new_model = copy.deepcopy(model)"
   ]
  },
  {
   "cell_type": "markdown",
   "id": "9977809a",
   "metadata": {},
   "source": [
    "### Remove BUS_SELECTED module"
   ]
  },
  {
   "cell_type": "code",
   "execution_count": 43,
   "id": "0d526e92",
   "metadata": {},
   "outputs": [
    {
     "name": "stdout",
     "output_type": "stream",
     "text": [
      "\n"
     ]
    }
   ],
   "source": [
    "new_model.dms.pop('BUS_SELECTED')\n",
    "print()"
   ]
  },
  {
   "cell_type": "markdown",
   "id": "ce0a9fd7",
   "metadata": {},
   "source": [
    "### Change name to BUSI --> UDIAT"
   ]
  },
  {
   "cell_type": "code",
   "execution_count": 44,
   "id": "59bbdc22",
   "metadata": {},
   "outputs": [
    {
     "name": "stdout",
     "output_type": "stream",
     "text": [
      "\n"
     ]
    }
   ],
   "source": [
    "new_model.dms.update({'UDIAT': new_model.dms['BUSI']})\n",
    "new_model.dms.pop('BUSI')\n",
    "print()"
   ]
  },
  {
   "cell_type": "markdown",
   "id": "fb0df387",
   "metadata": {},
   "source": [
    "### Update names"
   ]
  },
  {
   "cell_type": "code",
   "execution_count": 45,
   "id": "237aa2e9",
   "metadata": {},
   "outputs": [],
   "source": [
    "new_model.dsets_names = [k for k in new_model.dms.keys()]"
   ]
  },
  {
   "cell_type": "markdown",
   "id": "3814ebfe",
   "metadata": {},
   "source": [
    "### Check"
   ]
  },
  {
   "cell_type": "code",
   "execution_count": 46,
   "id": "a1c838f9",
   "metadata": {},
   "outputs": [
    {
     "data": {
      "text/plain": [
       "odict_keys(['LINK_BRATS_LGG_flair', 'BRAIN', 'UDIAT'])"
      ]
     },
     "execution_count": 46,
     "metadata": {},
     "output_type": "execute_result"
    }
   ],
   "source": [
    "new_model.dms.keys()"
   ]
  },
  {
   "cell_type": "code",
   "execution_count": 47,
   "id": "d906a256",
   "metadata": {},
   "outputs": [
    {
     "data": {
      "text/plain": [
       "['LINK_BRATS_LGG_flair', 'BRAIN', 'UDIAT']"
      ]
     },
     "execution_count": 47,
     "metadata": {},
     "output_type": "execute_result"
    }
   ],
   "source": [
    "new_model.dsets_names"
   ]
  },
  {
   "cell_type": "markdown",
   "id": "6ec2ae74",
   "metadata": {},
   "source": [
    "## Save new model"
   ]
  },
  {
   "cell_type": "code",
   "execution_count": 48,
   "id": "446555b5",
   "metadata": {},
   "outputs": [],
   "source": [
    "OUTPUT_FOLDER = root_path / 'bootstrap_models_adapted' / bootstrap_exp_name \n",
    "assert not os.path.exists(OUTPUT_FOLDER)\n",
    "os.mkdir(OUTPUT_FOLDER)\n",
    "torch.save(new_model.to_state_dict(), OUTPUT_FOLDER / 'bootstrap_model.pth')"
   ]
  },
  {
   "cell_type": "code",
   "execution_count": null,
   "id": "d4e801d2",
   "metadata": {},
   "outputs": [],
   "source": []
  }
 ],
 "metadata": {
  "kernelspec": {
   "display_name": "Python 3 (ipykernel)",
   "language": "python",
   "name": "python3"
  },
  "language_info": {
   "codemirror_mode": {
    "name": "ipython",
    "version": 3
   },
   "file_extension": ".py",
   "mimetype": "text/x-python",
   "name": "python",
   "nbconvert_exporter": "python",
   "pygments_lexer": "ipython3",
   "version": "3.8.10"
  }
 },
 "nbformat": 4,
 "nbformat_minor": 5
}
