{
 "cells": [
  {
   "cell_type": "code",
   "execution_count": 1,
   "id": "38226443",
   "metadata": {},
   "outputs": [],
   "source": [
    "import os\n",
    "import shutil\n",
    "import numpy as np\n",
    "import torch\n",
    "from tqdm import tqdm"
   ]
  },
  {
   "cell_type": "code",
   "execution_count": 4,
   "id": "299d4b43",
   "metadata": {
    "scrolled": false
   },
   "outputs": [
    {
     "name": "stderr",
     "output_type": "stream",
     "text": [
      "100%|██████████████████████████████████| 11039/11039 [00:00<00:00, 19823.24it/s]\n"
     ]
    },
    {
     "name": "stdout",
     "output_type": "stream",
     "text": [
      "11039\n"
     ]
    },
    {
     "name": "stderr",
     "output_type": "stream",
     "text": [
      "100%|█████████████████████████████████████████| 539/539 [00:51<00:00, 10.43it/s]\n",
      "100%|███████████████████████████████████████| 2000/2000 [03:20<00:00,  9.95it/s]\n",
      "100%|███████████████████████████████████████| 8500/8500 [14:34<00:00,  9.71it/s]\n"
     ]
    }
   ],
   "source": [
    "path = \"/media/jonas/Seagate Expansion Drive/Memoria/master_thesis/Dataset_HNPC_output/img\"\n",
    "path_mask = \"/media/jonas/Seagate Expansion Drive/Memoria/master_thesis/Dataset_HNPC_output/masks_small\"\n",
    "\n",
    "images = []\n",
    "\n",
    "# Select images\n",
    "for image in tqdm(os.listdir(path)):\n",
    "    # Ensure there is a mask\n",
    "    if os.path.exists(path_mask + '/' + image[:-4] + '_mask.npy'):\n",
    "        images.append(image)\n",
    "      \n",
    "    \n",
    "print(len(images))\n",
    "# assert len(images) == 11039\n",
    "                \n",
    "out_path = \"/media/jonas/Seagate Expansion Drive/Memoria/master_thesis/Dataset_HNPC_output/out\"\n",
    "\n",
    "# Split\n",
    "train_data, val_data, test_data = torch.utils.data.random_split(images, [8500, 2000, 539]) # 11039\n",
    "\n",
    "os.makedirs(f'{out_path}/train')\n",
    "os.makedirs(f'{out_path}/val')\n",
    "os.makedirs(f'{out_path}/test')\n",
    "\n",
    "for img in tqdm(test_data):\n",
    "    shutil.copyfile(path + '/' + img, out_path + '/test/' + img)\n",
    "    shutil.copyfile(path_mask + '/' + img[:-4] + '_mask.npy', out_path + '/test/' + img[:-4] + '_mask.npy')\n",
    "\n",
    "    \n",
    "for img in tqdm(val_data):\n",
    "    shutil.copyfile(path + '/' + img, out_path + '/val/' + img)\n",
    "    shutil.copyfile(path_mask + '/' + img[:-4] + '_mask.npy', out_path + '/val/' + img[:-4] + '_mask.npy')\n",
    "\n",
    "    \n",
    "for img in tqdm(train_data):\n",
    "    shutil.copyfile(path + '/' + img, out_path + '/train/' + img)\n",
    "    shutil.copyfile(path_mask + '/' + img[:-4] + '_mask.npy', out_path + '/train/' + img[:-4] + '_mask.npy')"
   ]
  },
  {
   "cell_type": "code",
   "execution_count": null,
   "id": "d1f4fafd",
   "metadata": {},
   "outputs": [],
   "source": []
  }
 ],
 "metadata": {
  "kernelspec": {
   "display_name": "Python 3 (ipykernel)",
   "language": "python",
   "name": "python3"
  },
  "language_info": {
   "codemirror_mode": {
    "name": "ipython",
    "version": 3
   },
   "file_extension": ".py",
   "mimetype": "text/x-python",
   "name": "python",
   "nbconvert_exporter": "python",
   "pygments_lexer": "ipython3",
   "version": "3.8.10"
  }
 },
 "nbformat": 4,
 "nbformat_minor": 5
}
