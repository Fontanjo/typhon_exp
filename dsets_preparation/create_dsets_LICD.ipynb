{
 "cells": [
  {
   "cell_type": "code",
   "execution_count": 1,
   "id": "38226443",
   "metadata": {},
   "outputs": [],
   "source": [
    "import os\n",
    "import shutil\n",
    "import numpy as np\n",
    "import torch\n",
    "from tqdm import tqdm"
   ]
  },
  {
   "cell_type": "code",
   "execution_count": 2,
   "id": "299d4b43",
   "metadata": {
    "scrolled": false
   },
   "outputs": [
    {
     "name": "stderr",
     "output_type": "stream",
     "text": [
      "100%|████████████████████████████████████| 5194/5194 [00:00<00:00, 79797.57it/s]\n"
     ]
    },
    {
     "name": "stdout",
     "output_type": "stream",
     "text": [
      "2596\n"
     ]
    },
    {
     "name": "stderr",
     "output_type": "stream",
     "text": [
      "100%|███████████████████████████████████████████| 96/96 [00:12<00:00,  7.58it/s]\n",
      "100%|█████████████████████████████████████████| 500/500 [01:17<00:00,  6.44it/s]\n",
      "100%|███████████████████████████████████████| 2000/2000 [06:32<00:00,  5.09it/s]\n"
     ]
    }
   ],
   "source": [
    "path = \"/home/jonas/UnifrServer/Jonas/data/LICD_OUT_SMALL\"\n",
    "\n",
    "images = []\n",
    "\n",
    "# Select images\n",
    "for image in tqdm(os.listdir(path)):\n",
    "    if image.endswith(\"mask.npy\"): \n",
    "        continue\n",
    "    # Ensure there is a mask\n",
    "    if os.path.exists(path + '/' + image[:-4] + '_mask.npy'):\n",
    "        images.append(image)\n",
    "      \n",
    "    \n",
    "print(len(images)) # One image has not a mask (due to installation errors)\n",
    "# assert len(images) == 2597\n",
    "                \n",
    "out_path = \"/home/jonas/UnifrServer/Jonas/data/LICD\"\n",
    "\n",
    "# Split\n",
    "train_data, val_data, test_data = torch.utils.data.random_split(images, [2000, 500, 96]) # 2597\n",
    "\n",
    "os.makedirs(f'{out_path}/train')\n",
    "os.makedirs(f'{out_path}/val')\n",
    "os.makedirs(f'{out_path}/test')\n",
    "\n",
    "for img in tqdm(test_data):\n",
    "    shutil.copyfile(path + '/' + img, out_path + '/test/' + img)\n",
    "    shutil.copyfile(path + '/' + img[:-4] + '_mask.npy', out_path + '/test/' + img[:-4] + '_mask.npy')\n",
    "\n",
    "    \n",
    "for img in tqdm(val_data):\n",
    "    shutil.copyfile(path + '/' + img, out_path + '/val/' + img)\n",
    "    shutil.copyfile(path + '/' + img[:-4] + '_mask.npy', out_path + '/val/' + img[:-4] + '_mask.npy')\n",
    "\n",
    "    \n",
    "for img in tqdm(train_data):\n",
    "    shutil.copyfile(path + '/' + img, out_path + '/train/' + img)\n",
    "    shutil.copyfile(path + '/' + img[:-4] + '_mask.npy', out_path + '/train/' + img[:-4] + '_mask.npy')"
   ]
  },
  {
   "cell_type": "code",
   "execution_count": null,
   "id": "d1f4fafd",
   "metadata": {},
   "outputs": [],
   "source": []
  }
 ],
 "metadata": {
  "kernelspec": {
   "display_name": "Python 3 (ipykernel)",
   "language": "python",
   "name": "python3"
  },
  "language_info": {
   "codemirror_mode": {
    "name": "ipython",
    "version": 3
   },
   "file_extension": ".py",
   "mimetype": "text/x-python",
   "name": "python",
   "nbconvert_exporter": "python",
   "pygments_lexer": "ipython3",
   "version": "3.8.10"
  }
 },
 "nbformat": 4,
 "nbformat_minor": 5
}
