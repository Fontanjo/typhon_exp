{
 "cells": [
  {
   "cell_type": "code",
   "execution_count": 1,
   "id": "195acec9",
   "metadata": {},
   "outputs": [],
   "source": [
    "import numpy as np\n",
    "import nibabel as nib"
   ]
  },
  {
   "cell_type": "code",
   "execution_count": null,
   "id": "6fb7ddd5",
   "metadata": {},
   "outputs": [],
   "source": [
    "path = \"/media/jonas/Seagate Expansion Drive/Memoria/master_thesis/BRaTS2021\"\n",
    "dir_list = os.listdir(path)\n",
    "\n",
    "images = []\n",
    "\n",
    "# Iterate over all the directories\n",
    "for file in dir_list:\n",
    "    filename = path + '/' + file\n",
    "        if not image.endswith('_mask.tif'):\n",
    "            i = dir_path + '/' + image\n",
    "            m = dir_path + '/' + image[:-4] + '_mask.tif'\n",
    "            images.append([i, m])\n",
    "                \n",
    "                \n",
    "out_path = \"/media/jonas/Seagate Expansion Drive/Memoria/master_thesis\"\n",
    "\n"
   ]
  }
 ],
 "metadata": {
  "kernelspec": {
   "display_name": "Python 3 (ipykernel)",
   "language": "python",
   "name": "python3"
  },
  "language_info": {
   "codemirror_mode": {
    "name": "ipython",
    "version": 3
   },
   "file_extension": ".py",
   "mimetype": "text/x-python",
   "name": "python",
   "nbconvert_exporter": "python",
   "pygments_lexer": "ipython3",
   "version": "3.8.10"
  }
 },
 "nbformat": 4,
 "nbformat_minor": 5
}
