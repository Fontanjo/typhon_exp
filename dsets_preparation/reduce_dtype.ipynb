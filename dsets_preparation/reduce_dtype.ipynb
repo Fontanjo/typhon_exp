{
 "cells": [
  {
   "cell_type": "code",
   "execution_count": 1,
   "id": "651e521d",
   "metadata": {},
   "outputs": [],
   "source": [
    "import numpy as np\n",
    "import os\n",
    "from tqdm import tqdm\n",
    "import shutil"
   ]
  },
  {
   "cell_type": "code",
   "execution_count": 2,
   "id": "7b324230",
   "metadata": {},
   "outputs": [
    {
     "name": "stderr",
     "output_type": "stream",
     "text": [
      "100%|█████████████████████████████████████| 11039/11039 [19:47<00:00,  9.30it/s]\n"
     ]
    }
   ],
   "source": [
    "input_path = \"/media/jonas/Seagate Expansion Drive/Memoria/master_thesis/Dataset_HNPC_output/masks\"\n",
    "output_path = \"/media/jonas/Seagate Expansion Drive/Memoria/master_thesis/Dataset_HNPC_output/masks_small\"\n",
    "\n",
    "\n",
    "# Create out folder\n",
    "os.makedirs(output_path, exist_ok=True)\n",
    "\n",
    "for arr_name in tqdm(os.listdir(input_path)):\n",
    "    # In this case only masks should be compressed. Comment to work on all files\n",
    "    if not arr_name.endswith('mask.npy'):\n",
    "        # Simply copy\n",
    "        shutil.copy(input_path + '/' + arr_name, output_path)\n",
    "        continue \n",
    "    # Load\n",
    "    arr = np.load(input_path + \"/\" + arr_name)\n",
    "    np.save(output_path + '/' + arr_name, arr.astype('uint8'))\n",
    "    "
   ]
  },
  {
   "cell_type": "code",
   "execution_count": 4,
   "id": "553549c0",
   "metadata": {},
   "outputs": [
    {
     "name": "stderr",
     "output_type": "stream",
     "text": [
      "100%|███████████████████████████████████████| 5194/5194 [05:14<00:00, 16.53it/s]\n"
     ]
    }
   ],
   "source": [
    "# Copy the rest\n",
    "for arr_name in tqdm(os.listdir(input_path)):\n",
    "    if arr_name.endswith('mask.npy'): continue \n",
    "    # Load\n",
    "    shutil.copy(input_path + '/' + arr_name, output_path)"
   ]
  },
  {
   "cell_type": "code",
   "execution_count": null,
   "id": "44d1d4b3",
   "metadata": {},
   "outputs": [],
   "source": []
  }
 ],
 "metadata": {
  "kernelspec": {
   "display_name": "Python 3 (ipykernel)",
   "language": "python",
   "name": "python3"
  },
  "language_info": {
   "codemirror_mode": {
    "name": "ipython",
    "version": 3
   },
   "file_extension": ".py",
   "mimetype": "text/x-python",
   "name": "python",
   "nbconvert_exporter": "python",
   "pygments_lexer": "ipython3",
   "version": "3.8.10"
  }
 },
 "nbformat": 4,
 "nbformat_minor": 5
}
