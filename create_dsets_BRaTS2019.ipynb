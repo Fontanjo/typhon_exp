{
 "cells": [
  {
   "cell_type": "code",
   "execution_count": 5,
   "id": "195acec9",
   "metadata": {},
   "outputs": [],
   "source": [
    "import numpy as np\n",
    "import nibabel as nib\n",
    "import os"
   ]
  },
  {
   "cell_type": "code",
   "execution_count": 6,
   "id": "6fb7ddd5",
   "metadata": {},
   "outputs": [
    {
     "ename": "FileNotFoundError",
     "evalue": "[Errno 2] No such file or directory: 'BraTS19_2013_10_1'",
     "output_type": "error",
     "traceback": [
      "\u001b[0;31m---------------------------------------------------------------------------\u001b[0m",
      "\u001b[0;31mFileNotFoundError\u001b[0m                         Traceback (most recent call last)",
      "Cell \u001b[0;32mIn [6], line 11\u001b[0m\n\u001b[1;32m      9\u001b[0m \u001b[38;5;66;03m# Iterate over all the directories\u001b[39;00m\n\u001b[1;32m     10\u001b[0m \u001b[38;5;28;01mfor\u001b[39;00m dir_name \u001b[38;5;129;01min\u001b[39;00m dir_list:\n\u001b[0;32m---> 11\u001b[0m     \u001b[38;5;28;01mfor\u001b[39;00m file \u001b[38;5;129;01min\u001b[39;00m \u001b[43mos\u001b[49m\u001b[38;5;241;43m.\u001b[39;49m\u001b[43mlistdir\u001b[49m\u001b[43m(\u001b[49m\u001b[43mdir_name\u001b[49m\u001b[43m)\u001b[49m:\n\u001b[1;32m     12\u001b[0m         count \u001b[38;5;241m+\u001b[39m\u001b[38;5;241m=\u001b[39m \u001b[38;5;241m1\u001b[39m\n\u001b[1;32m     15\u001b[0m \u001b[38;5;28mprint\u001b[39m(count)\n",
      "\u001b[0;31mFileNotFoundError\u001b[0m: [Errno 2] No such file or directory: 'BraTS19_2013_10_1'"
     ]
    }
   ],
   "source": [
    "path = \"/media/jonas/Seagate Expansion Drive/Memoria/master_thesis/MICCAI_BraTS_2019_Data_Training/HGG\"\n",
    "\n",
    "\n",
    "dir_list = os.listdir(path)\n",
    "\n",
    "images = []\n",
    "count = 0\n",
    "\n",
    "# Iterate over all the directories\n",
    "for dir_name in dir_list:\n",
    "    for file in os.listdir(dir_name):\n",
    "        if file.endswith('flair.nii') or file.endswith('t2.nii'):\n",
    "            images.append(file)\n",
    "        count += 1\n",
    "        \n",
    "        \n",
    "print(count)\n",
    "                \n",
    "                \n",
    "out_path = \"/media/jonas/Seagate Expansion Drive/Memoria/master_thesis\"\n",
    "\n"
   ]
  },
  {
   "cell_type": "code",
   "execution_count": null,
   "id": "fcf9a01d",
   "metadata": {},
   "outputs": [],
   "source": []
  }
 ],
 "metadata": {
  "kernelspec": {
   "display_name": "Python 3 (ipykernel)",
   "language": "python",
   "name": "python3"
  },
  "language_info": {
   "codemirror_mode": {
    "name": "ipython",
    "version": 3
   },
   "file_extension": ".py",
   "mimetype": "text/x-python",
   "name": "python",
   "nbconvert_exporter": "python",
   "pygments_lexer": "ipython3",
   "version": "3.8.10"
  }
 },
 "nbformat": 4,
 "nbformat_minor": 5
}
