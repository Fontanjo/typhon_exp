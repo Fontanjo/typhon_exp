{
 "cells": [
  {
   "cell_type": "code",
   "execution_count": 1,
   "id": "a4c921e9",
   "metadata": {},
   "outputs": [],
   "source": [
    "%matplotlib inline \n",
    "import pandas as pd\n",
    "import numpy as np\n",
    "import matplotlib.pyplot as plt\n",
    "import ipywidgets as widgets\n",
    "from ipywidgets import interact\n",
    "from pathlib import Path\n",
    "\n",
    "import os\n",
    "import torch\n",
    "\n",
    "import typhon_model\n",
    "\n",
    "import cv2\n",
    "import ipywidgets as wg"
   ]
  },
  {
   "cell_type": "markdown",
   "id": "5151e1c0",
   "metadata": {},
   "source": [
    "## Choose model"
   ]
  },
  {
   "cell_type": "code",
   "execution_count": 2,
   "id": "69bd3dfc",
   "metadata": {},
   "outputs": [
    {
     "data": {
      "application/vnd.jupyter.widget-view+json": {
       "model_id": "e513c9a5a1d2420eae8cf47c67916e8c",
       "version_major": 2,
       "version_minor": 0
      },
      "text/plain": [
       "RadioButtons(layout=Layout(width='600px'), options=('000_old_20230419', '20230413_first_7', '20230417_Brats2x_…"
      ]
     },
     "metadata": {},
     "output_type": "display_data"
    }
   ],
   "source": [
    "root_path = Path('results')\n",
    "\n",
    "experiments = sorted([path.stem for path in root_path.iterdir()])\n",
    "exp_radiobuttons = widgets.RadioButtons(options=experiments, layout=widgets.Layout(width='600px')) # Add layout to avoid wrapping\n",
    "display(exp_radiobuttons)"
   ]
  },
  {
   "cell_type": "code",
   "execution_count": 154,
   "id": "5f90466c",
   "metadata": {},
   "outputs": [
    {
     "data": {
      "application/vnd.jupyter.widget-view+json": {
       "model_id": "64da0778f8b54b1aa2e53368d400173f",
       "version_major": 2,
       "version_minor": 0
      },
      "text/plain": [
       "RadioButtons(layout=Layout(width='600px'), options=('bootstrap_model', 'train_model_p'), value='bootstrap_mode…"
      ]
     },
     "metadata": {},
     "output_type": "display_data"
    }
   ],
   "source": [
    "models_path = root_path / exp_radiobuttons.value / 'models'\n",
    "\n",
    "models = sorted([path.stem for path in models_path.iterdir()])\n",
    "models_radiobuttons = widgets.RadioButtons(options=models, layout=widgets.Layout(width='600px')) # Add layout to avoid wrapping\n",
    "display(models_radiobuttons)"
   ]
  },
  {
   "cell_type": "code",
   "execution_count": 61,
   "id": "771b09bd",
   "metadata": {},
   "outputs": [
    {
     "name": "stdout",
     "output_type": "stream",
     "text": [
      "results/20230419_Brats2x_Lidc_nobts_v2_6/models/train_model_p.pth\n"
     ]
    }
   ],
   "source": [
    "model_path = (root_path / exp_radiobuttons.value / 'models' / models_radiobuttons.value).with_suffix('.pth')\n",
    "print(model_path)\n",
    "\n",
    "# Load model\n",
    "model_dict = torch.load(model_path, map_location=torch.device('cpu'))\n",
    "model = typhon_model.TyphonModel.from_state_dict(model_dict)"
   ]
  },
  {
   "cell_type": "code",
   "execution_count": 62,
   "id": "c5bf69f7",
   "metadata": {},
   "outputs": [
    {
     "data": {
      "application/vnd.jupyter.widget-view+json": {
       "model_id": "cb797e364f88404a834b0bf5264013e5",
       "version_major": 2,
       "version_minor": 0
      },
      "text/plain": [
       "RadioButtons(layout=Layout(width='600px'), options=('LIDC', 'LINK_BRATS_HGG_t1ce', 'LINK_BRATS_HGG_flair'), va…"
      ]
     },
     "metadata": {},
     "output_type": "display_data"
    }
   ],
   "source": [
    "dsets_radiobuttons = widgets.RadioButtons(options=model.dsets_names, layout=widgets.Layout(width='600px')) # Add layout to avoid wrapping\n",
    "display(dsets_radiobuttons)"
   ]
  },
  {
   "cell_type": "markdown",
   "id": "cc9fe138",
   "metadata": {},
   "source": [
    "## Load images and pass to model"
   ]
  },
  {
   "cell_type": "code",
   "execution_count": 110,
   "id": "7d242c66",
   "metadata": {},
   "outputs": [],
   "source": [
    "def load_npy(path):\n",
    "    ary = np.load(path)\n",
    "    ary.shape = (1, 1, *ary.shape)\n",
    "    # Convert to tenso\n",
    "    img = torch.from_numpy(ary).float()\n",
    "    return img"
   ]
  },
  {
   "cell_type": "code",
   "execution_count": 151,
   "id": "28a1c87f",
   "metadata": {},
   "outputs": [
    {
     "name": "stdout",
     "output_type": "stream",
     "text": [
      "datasets_segmentation/LINK_BRATS_HGG_t1ce/train/BraTS19_2013_10_1_slice_0_t1.npy\n"
     ]
    }
   ],
   "source": [
    "dset_choosen = dsets_radiobuttons.value\n",
    "input_folder_full = f'datasets_segmentation/{dset_choosen}/train/'\n",
    "filename = np.random.choice([f for f in os.listdir(input_folder_full) if not f.endswith('_mask.npy')])\n",
    "input_path = input_folder_full + filename\n",
    "print(input_path)\n",
    "\n",
    "inp = load_npy(input_path)\n",
    "mask = load_npy(input_path[:-4] + '_mask.npy')\n",
    "\n",
    "img_dim = (256, 256)\n",
    "inp = torch.nn.functional.pad(inp, (0, img_dim[1], 0, img_dim[0]), 'constant', 0)[:, :, :img_dim[0], :img_dim[1]]\n",
    "mask = torch.nn.functional.pad(mask, (0, img_dim[1], 0, img_dim[0]), 'constant', 0)[:, :, :img_dim[0], :img_dim[1]]\n",
    "\n",
    "out_t = model.forward(inp, dset_choosen)"
   ]
  },
  {
   "cell_type": "code",
   "execution_count": 152,
   "id": "1129ca9e",
   "metadata": {},
   "outputs": [],
   "source": [
    "def plot_results(inp, mask, out):\n",
    "    # Format data\n",
    "    arrays = (inp[0][0], mask[0][0], out.detach().numpy()[0][0])\n",
    "    \n",
    "    # Convert to right format\n",
    "    uint_imgs = [np.array(array*255).astype('uint8') for array in arrays]\n",
    "    grayImages = [cv2.cvtColor(uint_imgs[i], cv2.COLOR_GRAY2BGR) for i in range(len(arrays))]\n",
    "    \n",
    "    # Plot\n",
    "    fig, axs = plt.subplots(1, len(arrays))\n",
    "    [axs[i].imshow(grayImages[i]) for i in range(len(arrays))]\n",
    "    \n",
    "    plt.show()"
   ]
  },
  {
   "cell_type": "code",
   "execution_count": 153,
   "id": "192c149e",
   "metadata": {},
   "outputs": [
    {
     "data": {
      "image/png": "[encoded data removed]",
      "text/plain": [
       "<Figure size 640x480 with 3 Axes>"
      ]
     },
     "metadata": {},
     "output_type": "display_data"
    }
   ],
   "source": [
    "plot_results(inp, mask, out_t)"
   ]
  },
  {
   "cell_type": "code",
   "execution_count": 117,
   "id": "aedd8e81",
   "metadata": {},
   "outputs": [],
   "source": [
    "def plot_image(img):\n",
    "    if type(img) == torch.Tensor:\n",
    "        img = img.detach().numpy()\n",
    "    while len(img.shape) > 2:\n",
    "        img = img[0]\n",
    "        \n",
    "    uint_img = np.array(img*255).astype('uint8')   \n",
    "    grayImage = cv2.cvtColor(uint_img, cv2.COLOR_GRAY2BGR)\n",
    "    # set size\n",
    "    plt.figure(figsize=(10,10))\n",
    "    plt.axis(\"off\")\n",
    "    \n",
    "    plt.imshow(grayImage)\n",
    "    plt.show()"
   ]
  },
  {
   "cell_type": "code",
   "execution_count": 59,
   "id": "19071f74",
   "metadata": {},
   "outputs": [
    {
     "data": {
      "application/vnd.jupyter.widget-view+json": {
       "model_id": "96dc220fab2745eb991202fbf25bc03e",
       "version_major": 2,
       "version_minor": 0
      },
      "text/plain": [
       "interactive(children=(IntSlider(value=0, description='x', max=3), Output()), _dom_classes=('widget-interact',)…"
      ]
     },
     "metadata": {},
     "output_type": "display_data"
    }
   ],
   "source": [
    "def f(x):\n",
    "    return plot_image((inp, mask, out_t)[x%3])\n",
    "\n",
    "wg.interact(f, x=wg.IntSlider(min=0,max=3,step=1));"
   ]
  },
  {
   "cell_type": "code",
   "execution_count": null,
   "id": "31293073",
   "metadata": {},
   "outputs": [],
   "source": []
  }
 ],
 "metadata": {
  "kernelspec": {
   "display_name": "Python 3 (ipykernel)",
   "language": "python",
   "name": "python3"
  },
  "language_info": {
   "codemirror_mode": {
    "name": "ipython",
    "version": 3
   },
   "file_extension": ".py",
   "mimetype": "text/x-python",
   "name": "python",
   "nbconvert_exporter": "python",
   "pygments_lexer": "ipython3",
   "version": "3.8.10"
  }
 },
 "nbformat": 4,
 "nbformat_minor": 5
}
