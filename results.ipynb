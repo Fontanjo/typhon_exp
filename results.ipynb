{
 "cells": [
  {
   "cell_type": "markdown",
   "id": "5d60fd32",
   "metadata": {},
   "source": [
    "# Visualization graphs and results for Typhon"
   ]
  },
  {
   "cell_type": "markdown",
   "id": "b7fae5c6",
   "metadata": {},
   "source": [
    "### Load Librairies"
   ]
  },
  {
   "cell_type": "code",
   "execution_count": 2,
   "id": "39ba4f52",
   "metadata": {},
   "outputs": [],
   "source": [
    "%matplotlib inline \n",
    "import pandas as pd\n",
    "import numpy as np\n",
    "import matplotlib.pyplot as plt\n",
    "import ipywidgets as widgets\n",
    "from ipywidgets import interact\n",
    "from pathlib import Path"
   ]
  },
  {
   "cell_type": "markdown",
   "id": "7e5d8467",
   "metadata": {},
   "source": [
    "### Put the path and select experiment to load"
   ]
  },
  {
   "cell_type": "code",
   "execution_count": 3,
   "id": "f0f81bb5",
   "metadata": {},
   "outputs": [
    {
     "data": {
      "application/vnd.jupyter.widget-view+json": {
       "model_id": "987ffa0165be48a090fb06082ae507b1",
       "version_major": 2,
       "version_minor": 0
      },
      "text/plain": [
       "RadioButtons(options=('prostate_0',), value='prostate_0')"
      ]
     },
     "metadata": {},
     "output_type": "display_data"
    }
   ],
   "source": [
    "# Make sure the path is correct, i.e. change according which experiment we want\n",
    "root_path = Path('results')\n",
    "\n",
    "experiments = [path.stem for path in root_path.iterdir()]\n",
    "exp_radiobuttons = widgets.RadioButtons(options=experiments)\n",
    "display(exp_radiobuttons)"
   ]
  },
  {
   "cell_type": "markdown",
   "id": "2375dd9a",
   "metadata": {},
   "source": [
    "### Use buttons to select the datasets, the metrics and other stuff"
   ]
  },
  {
   "cell_type": "code",
   "execution_count": 4,
   "id": "c0238100",
   "metadata": {},
   "outputs": [
    {
     "data": {
      "application/vnd.jupyter.widget-view+json": {
       "model_id": "1992b2244dec4ea1b7cb2a0082ce7eed",
       "version_major": 2,
       "version_minor": 0
      },
      "text/plain": [
       "HBox(children=(VBox(children=(Checkbox(value=True, description='Prostate'), Checkbox(value=True, description='…"
      ]
     },
     "metadata": {},
     "output_type": "display_data"
    }
   ],
   "source": [
    "path = root_path / exp_radiobuttons.value / 'run_plot'\n",
    "metrics_plot = pd.read_csv(path / 'metrics.csv')\n",
    " \n",
    "datasets_checkboxes = [widgets.Checkbox(value=True, description=label) for label in pd.unique(metrics_plot['dataset'])]\n",
    "datasets_vbox = widgets.VBox(children=datasets_checkboxes)\n",
    " \n",
    "types_checkboxes = [widgets.Checkbox(value=True, description=label) for label in pd.unique(metrics_plot['type'])]\n",
    "types_vbox = widgets.VBox(children=types_checkboxes)\n",
    "\n",
    "fe_checkboxes = [widgets.Checkbox(value=True, description=label) for label in pd.unique(metrics_plot['feature_extractor'])]\n",
    "fe_vbox = widgets.VBox(children=fe_checkboxes)\n",
    "\n",
    "metrics_checkboxes = [widgets.Checkbox(value=True if label=='loss' or label=='auc' else False, description=label) for label in pd.unique(metrics_plot['metric'])]\n",
    "metrics_vbox = widgets.VBox(children=metrics_checkboxes)\n",
    "\n",
    "vboxes = [datasets_vbox, types_vbox, fe_vbox, metrics_vbox]\n",
    "output = widgets.HBox(children=vboxes)\n",
    "display(output)"
   ]
  },
  {
   "cell_type": "markdown",
   "id": "77282e64",
   "metadata": {},
   "source": [
    "### Display the selected plots, and export it"
   ]
  },
  {
   "cell_type": "code",
   "execution_count": null,
   "id": "e9b7205c",
   "metadata": {
    "scrolled": false
   },
   "outputs": [],
   "source": [
    "# Get the filter from the checkboxes\n",
    "chosen_datasets = []\n",
    "chosen_types = []\n",
    "chosen_fe = []\n",
    "chosen_metrics = []\n",
    "\n",
    "for checkbox in datasets_checkboxes:\n",
    "    if checkbox.value == True:\n",
    "        chosen_datasets = chosen_datasets + [checkbox.description]\n",
    "        \n",
    "for checkbox in types_checkboxes:\n",
    "    if checkbox.value == True:\n",
    "        chosen_types = chosen_types + [checkbox.description]\n",
    "        \n",
    "for checkbox in fe_checkboxes:\n",
    "    if checkbox.value == True:\n",
    "        chosen_fe = chosen_fe + [checkbox.description]\n",
    "        \n",
    "for checkbox in metrics_checkboxes:\n",
    "    if checkbox.value == True:\n",
    "        chosen_metrics = chosen_metrics + [checkbox.description]\n",
    "\n",
    "# Create figure\n",
    "nplots = len(chosen_datasets)*len(chosen_types)*len(chosen_fe)*len(chosen_metrics)\n",
    "fig, axes = plt.subplots(int(np.ceil(nplots / 2)), 3, figsize=(11,11.7/10*(nplots)), squeeze=False)\n",
    "\n",
    "# Enable axes while plotting\n",
    "for row in axes:\n",
    "    for axis in row:\n",
    "        axis.set_axis_off()\n",
    "pos = 0\n",
    "\n",
    "# Dict to use pretty print on the graphs\n",
    "pretty_print = {\n",
    "    'auc': 'AUC',\n",
    "    'loss': 'Loss',\n",
    "    'accuracy': 'Accuracy',\n",
    "    'precision': 'Precision',\n",
    "    'recall': 'Recall',\n",
    "    'f1score': 'F1 Score',\n",
    "    'specificity': 'Specificity',\n",
    "    'trained': 'Training',\n",
    "    'specialized': 'Specialization',\n",
    "}\n",
    "        \n",
    "# Create the plots\n",
    "for dset_name in chosen_datasets:\n",
    "    dset_metrics_plot = metrics_plot[metrics_plot['dataset'] == dset_name]\n",
    "    \n",
    "    # For specialization and trained\n",
    "    for type_name in chosen_types:\n",
    "        type_plot = dset_metrics_plot[dset_metrics_plot['type'] == type_name]\n",
    "        \n",
    "        # For frozen and unfrozen feature extractor\n",
    "        for fe in chosen_fe:\n",
    "            fe_plot = type_plot[type_plot['feature_extractor'] == fe]\n",
    "\n",
    "            # Plots valset and trainset performance\n",
    "            for idx, metric_name in enumerate(chosen_metrics):\n",
    "                metric_name_plot = fe_plot[fe_plot['metric'] == metric_name]\n",
    "                if metric_name_plot.empty: continue\n",
    "                legends = []\n",
    "                results_test = {}\n",
    "                # Display the axes\n",
    "                axes[int(np.floor(pos / 2)), pos % 2].set_axis_on()\n",
    "\n",
    "                # For Split (train, validation and test)\n",
    "                for split in pd.unique(metric_name_plot['split']):\n",
    "                    split_plot = metric_name_plot[metric_name_plot['split'] == split]\n",
    "                    if split == 'test':\n",
    "                        results_test[metric_name] = split_plot['value'].values[0]\n",
    "                    else:    \n",
    "                        # Cast the Pandas Series to a Python list\n",
    "                        points = [point if point <= 1 else point for point in split_plot['value']]\n",
    "                        axes[int(np.floor(pos / 2)), pos % 2].plot(points)\n",
    "                        legends.append(f\"{'T' if split == 'train' else 'V'}\")\n",
    "\n",
    "                # Add legend, title and axes name\n",
    "                if type_plot['epoch'].empty: continue\n",
    "                number_epoch = max(type_plot['epoch'])\n",
    "                axes[int(np.floor(pos / 2)), pos % 2].legend(legends, loc='upper left', fontsize=5)\n",
    "                axes[int(np.floor(pos / 2)), pos % 2].set_title(f\"{dset_name}, {pretty_print[type_name]}, {pretty_print[metric_name]}\")\n",
    "                axes[int(np.floor(pos / 2)), pos % 2].set_xlabel('Epochs')\n",
    "                axes[int(np.floor(pos / 2)), pos % 2].set_ylabel(pretty_print[metric_name])\n",
    "\n",
    "                # Print results of test\n",
    "                try:\n",
    "                    axes[int(np.floor(pos / 2)), 2].axis('off')\n",
    "                    axes[int(np.floor(pos / 2)), 2].text(0, (pos % 2)*0.4, f\"{pretty_print[metric_name]}={results_test[metric_name]}\")\n",
    "                except KeyError:\n",
    "                    pass\n",
    "                pos += 1\n",
    "        \n",
    "# Automatic padding between plots\n",
    "fig.tight_layout()\n",
    "plt.savefig(path / f\"{exp_radiobuttons.value}.pdf\")\n",
    "plt.show()"
   ]
  },
  {
   "cell_type": "code",
   "execution_count": null,
   "id": "38145b08",
   "metadata": {},
   "outputs": [],
   "source": []
  }
 ],
 "metadata": {
  "kernelspec": {
   "display_name": "Python 3 (ipykernel)",
   "language": "python",
   "name": "python3"
  },
  "language_info": {
   "codemirror_mode": {
    "name": "ipython",
    "version": 3
   },
   "file_extension": ".py",
   "mimetype": "text/x-python",
   "name": "python",
   "nbconvert_exporter": "python",
   "pygments_lexer": "ipython3",
   "version": "3.8.10"
  }
 },
 "nbformat": 4,
 "nbformat_minor": 5
}
